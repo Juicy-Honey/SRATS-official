{
  "cells": [
    {
      "cell_type": "markdown",
      "metadata": {
        "id": "tzYd5tvnwp3e"
      },
      "source": [
        "# 0. Setup"
      ]
    },
    {
      "cell_type": "code",
      "execution_count": 1,
      "metadata": {
        "colab": {
          "base_uri": "https://localhost:8080/"
        },
        "id": "bWtT3sIEwZOp",
        "outputId": "03382d06-efb1-46dc-8241-b16ddbd9c09a"
      },
      "outputs": [
        {
          "output_type": "stream",
          "name": "stdout",
          "text": [
            "Mounted at drive\n"
          ]
        }
      ],
      "source": [
        "# Mount to Google Drive\n",
        "from google.colab import drive\n",
        "drive.mount('drive')"
      ]
    },
    {
      "cell_type": "code",
      "execution_count": 2,
      "metadata": {
        "id": "KyTIbs9OwzQp"
      },
      "outputs": [],
      "source": [
        "import torch\n",
        "import torch.nn as nn\n",
        "import torch.optim as optim\n",
        "from torch.utils.data import DataLoader\n",
        "from torchvision.transforms import transforms\n",
        "from torchvision.models import vgg19\n",
        "from PIL import Image\n",
        "import numpy as np\n",
        "import os\n",
        "\n",
        "# GPU\n",
        "device = torch.device('cuda' if torch.cuda.is_available() else 'cpu')"
      ]
    },
    {
      "cell_type": "code",
      "execution_count": 3,
      "metadata": {
        "id": "82h1yRw0rI2c"
      },
      "outputs": [],
      "source": [
        "folder_path = '/content/drive/MyDrive/SR-ATS'\n",
        "\n",
        "import os\n",
        "os.chdir(folder_path+'/functions')"
      ]
    },
    {
      "cell_type": "markdown",
      "metadata": {
        "id": "GIx0_dgOw5NB"
      },
      "source": [
        "# 1. Data Loader"
      ]
    },
    {
      "cell_type": "code",
      "execution_count": 4,
      "metadata": {
        "colab": {
          "base_uri": "https://localhost:8080/"
        },
        "id": "pNNdvwWxz8oL",
        "outputId": "b21cc0d2-b3ab-40ed-9c67-98ff0580b47b"
      },
      "outputs": [
        {
          "output_type": "stream",
          "name": "stdout",
          "text": [
            "15000 images loaded\n"
          ]
        }
      ],
      "source": [
        "import data_loader\n",
        "import importlib\n",
        "importlib.reload(data_loader)\n",
        "\n",
        "batch_size = 16\n",
        "scale = 4\n",
        "img_size = 128\n",
        "\n",
        "dataloader = data_loader.load_ds(\"15000sel\", batch_size, scale, img_size)"
      ]
    },
    {
      "cell_type": "markdown",
      "metadata": {
        "id": "PiP01zls0s_K"
      },
      "source": [
        "# 2. Train (x4 SR Model)"
      ]
    },
    {
      "cell_type": "code",
      "execution_count": 5,
      "metadata": {
        "id": "ODvwHfOP001c",
        "colab": {
          "base_uri": "https://localhost:8080/"
        },
        "outputId": "c914edc8-d7c6-4ff4-9110-5f7590118b9a"
      },
      "outputs": [
        {
          "output_type": "stream",
          "name": "stderr",
          "text": [
            "/usr/local/lib/python3.10/dist-packages/torchvision/models/_utils.py:208: UserWarning: The parameter 'pretrained' is deprecated since 0.13 and may be removed in the future, please use 'weights' instead.\n",
            "  warnings.warn(\n",
            "/usr/local/lib/python3.10/dist-packages/torchvision/models/_utils.py:223: UserWarning: Arguments other than a weight enum or `None` for 'weights' are deprecated since 0.13 and may be removed in the future. The current behavior is equivalent to passing `weights=VGG19_Weights.IMAGENET1K_V1`. You can also use `weights=VGG19_Weights.DEFAULT` to get the most up-to-date weights.\n",
            "  warnings.warn(msg)\n",
            "Downloading: \"https://download.pytorch.org/models/vgg19-dcbb9e9d.pth\" to /root/.cache/torch/hub/checkpoints/vgg19-dcbb9e9d.pth\n",
            "100%|██████████| 548M/548M [00:03<00:00, 163MB/s]\n"
          ]
        }
      ],
      "source": [
        "Model_path = \"../models/vfbsr\" # save path\n",
        "Model_name = \"v4\" # save name\n",
        "num_epochs = 100\n",
        "\n",
        "# SR(x4) Decoder\n",
        "import net\n",
        "importlib.reload(net)\n",
        "model = net.SR_v4().to(device)\n",
        "optimizer = optim.Adam(model.parameters(), lr=0.003)\n"
      ]
    },
    {
      "cell_type": "code",
      "execution_count": null,
      "metadata": {
        "colab": {
          "base_uri": "https://localhost:8080/"
        },
        "collapsed": true,
        "id": "DiQoERlKIJD_",
        "outputId": "ac6f4bf5-90f2-46a1-de6b-b5f8685e79c8"
      },
      "outputs": [
        {
          "output_type": "stream",
          "name": "stderr",
          "text": [
            "Epoch 1/100:  53%|█████▎    | 500/938 [12:25<10:48,  1.48s/it, Loss=10.4, MSE=0.0256]"
          ]
        },
        {
          "output_type": "stream",
          "name": "stdout",
          "text": [
            " \n",
            " \n",
            "[step 1*500] set14 & bsd\n",
            "[step 500], Loss: 0.0000, MSE: 0.0000\n"
          ]
        },
        {
          "output_type": "stream",
          "name": "stderr",
          "text": [
            "/content/drive/MyDrive/SR-ATS/functions/net_tester.py:16: UserWarning: Inputs have mismatched dtype.  Setting data_range based on image_true.\n",
            "  return metrics.peak_signal_noise_ratio(img1, img2)\n"
          ]
        },
        {
          "output_type": "stream",
          "name": "stdout",
          "text": [
            "psnr: 23.17235401572133, ssim: 0.7169234356330414\n",
            "psnr: 23.525327646263417, ssim: 0.6799758034342963\n",
            "\n",
            "\n",
            "\n"
          ]
        },
        {
          "output_type": "stream",
          "name": "stderr",
          "text": []
        },
        {
          "output_type": "stream",
          "name": "stdout",
          "text": [
            "Epoch [1/100], Loss: 9.2156, MSE: 0.0168\n",
            "set14\n",
            "psnr: 25.181542288873015, ssim: 0.7386225075492766\n",
            "bsd\n",
            "psnr: 25.395034320594867, ssim: 0.6984048073034976\n"
          ]
        },
        {
          "output_type": "stream",
          "name": "stderr",
          "text": [
            "Epoch 2/100:  53%|█████▎    | 500/938 [12:22<10:46,  1.48s/it, Loss=7.33, MSE=0.00585]"
          ]
        },
        {
          "output_type": "stream",
          "name": "stdout",
          "text": [
            " \n",
            " \n",
            "[step 1*500] set14 & bsd\n",
            "[step 500], Loss: 0.0000, MSE: 0.0000\n",
            "psnr: 25.25689663843996, ssim: 0.7389780783473149\n",
            "psnr: 25.45400000832494, ssim: 0.6975494199651148\n",
            "\n",
            "\n",
            "\n"
          ]
        },
        {
          "output_type": "stream",
          "name": "stderr",
          "text": []
        },
        {
          "output_type": "stream",
          "name": "stdout",
          "text": [
            "Epoch [2/100], Loss: 7.2612, MSE: 0.0059\n",
            "set14\n",
            "psnr: 25.39013012688699, ssim: 0.7447959642699644\n",
            "bsd\n",
            "psnr: 25.54583031049622, ssim: 0.7029866827635085\n"
          ]
        },
        {
          "output_type": "stream",
          "name": "stderr",
          "text": [
            "Epoch 3/100:  53%|█████▎    | 500/938 [12:17<10:44,  1.47s/it, Loss=6.96, MSE=0.00568]"
          ]
        },
        {
          "output_type": "stream",
          "name": "stdout",
          "text": [
            " \n",
            " \n",
            "[step 1*500] set14 & bsd\n",
            "[step 500], Loss: 0.0000, MSE: 0.0000\n",
            "psnr: 25.480615811102897, ssim: 0.7501743954997144\n",
            "psnr: 25.597842632952393, ssim: 0.7094518257391765\n",
            "\n",
            "\n",
            "\n"
          ]
        },
        {
          "output_type": "stream",
          "name": "stderr",
          "text": []
        },
        {
          "output_type": "stream",
          "name": "stdout",
          "text": [
            "Epoch [3/100], Loss: 6.9589, MSE: 0.0057\n",
            "set14\n",
            "psnr: 25.521444821686952, ssim: 0.7470437311421649\n",
            "bsd\n",
            "psnr: 25.62106724203959, ssim: 0.7049808407223986\n"
          ]
        },
        {
          "output_type": "stream",
          "name": "stderr",
          "text": [
            "Epoch 4/100:  53%|█████▎    | 500/938 [12:18<10:45,  1.47s/it, Loss=6.86, MSE=0.00565]"
          ]
        },
        {
          "output_type": "stream",
          "name": "stdout",
          "text": [
            " \n",
            " \n",
            "[step 1*500] set14 & bsd\n",
            "[step 500], Loss: 0.0000, MSE: 0.0000\n",
            "psnr: 25.51230108409462, ssim: 0.7503538721114038\n",
            "psnr: 25.669254588575747, ssim: 0.7097959313572182\n",
            "\n",
            "\n",
            "\n"
          ]
        },
        {
          "output_type": "stream",
          "name": "stderr",
          "text": []
        },
        {
          "output_type": "stream",
          "name": "stdout",
          "text": [
            "Epoch [4/100], Loss: 6.8217, MSE: 0.0056\n",
            "set14\n",
            "psnr: 25.544910075810037, ssim: 0.751337254572874\n",
            "bsd\n",
            "psnr: 25.626040530148494, ssim: 0.7080238117890012\n"
          ]
        },
        {
          "output_type": "stream",
          "name": "stderr",
          "text": [
            "Epoch 5/100:  53%|█████▎    | 500/938 [12:17<10:42,  1.47s/it, Loss=6.73, MSE=0.00553]"
          ]
        },
        {
          "output_type": "stream",
          "name": "stdout",
          "text": [
            " \n",
            " \n",
            "[step 1*500] set14 & bsd\n",
            "[step 500], Loss: 0.0000, MSE: 0.0000\n",
            "psnr: 25.502079346993504, ssim: 0.7491470346260104\n",
            "psnr: 25.63642918243326, ssim: 0.7074781658718604\n",
            "\n",
            "\n",
            "\n"
          ]
        },
        {
          "output_type": "stream",
          "name": "stderr",
          "text": []
        },
        {
          "output_type": "stream",
          "name": "stdout",
          "text": [
            "Epoch [5/100], Loss: 6.7339, MSE: 0.0056\n",
            "set14\n",
            "psnr: 25.61005567528691, ssim: 0.752991160714301\n",
            "bsd\n",
            "psnr: 25.724127970431876, ssim: 0.7117048542877003\n"
          ]
        },
        {
          "output_type": "stream",
          "name": "stderr",
          "text": [
            "Epoch 6/100:  53%|█████▎    | 500/938 [12:17<10:48,  1.48s/it, Loss=6.67, MSE=0.00554]"
          ]
        },
        {
          "output_type": "stream",
          "name": "stdout",
          "text": [
            " \n",
            " \n",
            "[step 1*500] set14 & bsd\n",
            "[step 500], Loss: 0.0000, MSE: 0.0000\n",
            "psnr: 25.5363125952541, ssim: 0.7508160703020584\n",
            "psnr: 25.684695322638927, ssim: 0.7105634742784939\n",
            "\n",
            "\n",
            "\n"
          ]
        },
        {
          "output_type": "stream",
          "name": "stderr",
          "text": []
        },
        {
          "output_type": "stream",
          "name": "stdout",
          "text": [
            "Epoch [6/100], Loss: 6.6693, MSE: 0.0055\n",
            "set14\n",
            "psnr: 25.61132687094378, ssim: 0.7532602782003737\n",
            "bsd\n",
            "psnr: 25.734023123593687, ssim: 0.7121019663098274\n"
          ]
        },
        {
          "output_type": "stream",
          "name": "stderr",
          "text": [
            "Epoch 7/100:  53%|█████▎    | 500/938 [12:17<10:44,  1.47s/it, Loss=6.61, MSE=0.00544]"
          ]
        },
        {
          "output_type": "stream",
          "name": "stdout",
          "text": [
            " \n",
            " \n",
            "[step 1*500] set14 & bsd\n",
            "[step 500], Loss: 0.0000, MSE: 0.0000\n",
            "psnr: 25.633404324536475, ssim: 0.7532184527260318\n",
            "psnr: 25.74952831494019, ssim: 0.7107028247869936\n",
            "\n",
            "\n",
            "\n"
          ]
        },
        {
          "output_type": "stream",
          "name": "stderr",
          "text": []
        },
        {
          "output_type": "stream",
          "name": "stdout",
          "text": [
            "Epoch [7/100], Loss: 6.6216, MSE: 0.0055\n",
            "set14\n",
            "psnr: 25.679294172174476, ssim: 0.7538107166486265\n",
            "bsd\n",
            "psnr: 25.7131997704118, ssim: 0.711407375098658\n"
          ]
        },
        {
          "output_type": "stream",
          "name": "stderr",
          "text": [
            "Epoch 8/100:  53%|█████▎    | 500/938 [12:17<10:48,  1.48s/it, Loss=6.56, MSE=0.00538]"
          ]
        },
        {
          "output_type": "stream",
          "name": "stdout",
          "text": [
            " \n",
            " \n",
            "[step 1*500] set14 & bsd\n",
            "[step 500], Loss: 0.0000, MSE: 0.0000\n",
            "psnr: 25.76117023619303, ssim: 0.7563229887641173\n",
            "psnr: 25.77963893552804, ssim: 0.7135984064104557\n",
            "\n",
            "\n",
            "\n"
          ]
        },
        {
          "output_type": "stream",
          "name": "stderr",
          "text": []
        },
        {
          "output_type": "stream",
          "name": "stdout",
          "text": [
            "Epoch [8/100], Loss: 6.5811, MSE: 0.0054\n",
            "set14\n",
            "psnr: 25.696916522777066, ssim: 0.7571839842789986\n",
            "bsd\n",
            "psnr: 25.759084307247143, ssim: 0.7152127851864365\n"
          ]
        },
        {
          "output_type": "stream",
          "name": "stderr",
          "text": [
            "Epoch 9/100:  11%|█         | 104/938 [02:33<20:30,  1.48s/it, Loss=6.43, MSE=0.00528]"
          ]
        }
      ],
      "source": [
        "import net_trainer\n",
        "importlib.reload(net_trainer)\n",
        "net_trainer.trainer(device, model, optimizer, num_epochs, dataloader, Model_path, Model_name)"
      ]
    },
    {
      "cell_type": "code",
      "source": [
        "torch.save(model, \"../models/Model4.pth\")"
      ],
      "metadata": {
        "id": "FYTT7i1uFbIZ"
      },
      "execution_count": null,
      "outputs": []
    },
    {
      "cell_type": "markdown",
      "metadata": {
        "id": "8OHhySgR7bxa"
      },
      "source": [
        "# 3. Test"
      ]
    },
    {
      "cell_type": "code",
      "execution_count": 11,
      "metadata": {
        "id": "dYECVqjY2Hjl"
      },
      "outputs": [],
      "source": [
        "import net_tester\n",
        "import data_loader\n",
        "\n",
        "set14_path = data_loader.un_zip(\"set14\")\n",
        "set5_path  = data_loader.un_zip(\"set5\")\n",
        "bsd_path   = data_loader.un_zip(\"BSD100\")\n",
        "urban_path = data_loader.un_zip(\"urban100\")\n",
        "\n",
        "#net_tester.test_set(set14_path, device, model, save_path=None)\n"
      ]
    },
    {
      "cell_type": "code",
      "execution_count": 12,
      "metadata": {
        "collapsed": true,
        "id": "SF6jUEl17foa",
        "colab": {
          "base_uri": "https://localhost:8080/"
        },
        "outputId": "9f7ab96e-536d-4d81-e2c6-7abac1e1707d"
      },
      "outputs": [
        {
          "output_type": "stream",
          "name": "stderr",
          "text": [
            "/usr/local/lib/python3.10/dist-packages/torchvision/models/_utils.py:208: UserWarning: The parameter 'pretrained' is deprecated since 0.13 and may be removed in the future, please use 'weights' instead.\n",
            "  warnings.warn(\n",
            "/usr/local/lib/python3.10/dist-packages/torchvision/models/_utils.py:223: UserWarning: Arguments other than a weight enum or `None` for 'weights' are deprecated since 0.13 and may be removed in the future. The current behavior is equivalent to passing `weights=VGG19_Weights.IMAGENET1K_V1`. You can also use `weights=VGG19_Weights.DEFAULT` to get the most up-to-date weights.\n",
            "  warnings.warn(msg)\n"
          ]
        },
        {
          "output_type": "execute_result",
          "data": {
            "text/plain": [
              "SR_v3(\n",
              "  (vgg_3): relu_3_4(\n",
              "    (feature_extractor): Sequential(\n",
              "      (0): Conv2d(3, 64, kernel_size=(3, 3), stride=(1, 1), padding=(1, 1))\n",
              "      (1): ReLU(inplace=True)\n",
              "      (2): Conv2d(64, 64, kernel_size=(3, 3), stride=(1, 1), padding=(1, 1))\n",
              "      (3): ReLU(inplace=True)\n",
              "      (4): MaxPool2d(kernel_size=2, stride=2, padding=0, dilation=1, ceil_mode=False)\n",
              "      (5): Conv2d(64, 128, kernel_size=(3, 3), stride=(1, 1), padding=(1, 1))\n",
              "      (6): ReLU(inplace=True)\n",
              "      (7): Conv2d(128, 128, kernel_size=(3, 3), stride=(1, 1), padding=(1, 1))\n",
              "      (8): ReLU(inplace=True)\n",
              "      (9): MaxPool2d(kernel_size=2, stride=2, padding=0, dilation=1, ceil_mode=False)\n",
              "      (10): Conv2d(128, 256, kernel_size=(3, 3), stride=(1, 1), padding=(1, 1))\n",
              "      (11): ReLU(inplace=True)\n",
              "      (12): Conv2d(256, 256, kernel_size=(3, 3), stride=(1, 1), padding=(1, 1))\n",
              "      (13): ReLU(inplace=True)\n",
              "      (14): Conv2d(256, 256, kernel_size=(3, 3), stride=(1, 1), padding=(1, 1))\n",
              "      (15): ReLU(inplace=True)\n",
              "      (16): Conv2d(256, 256, kernel_size=(3, 3), stride=(1, 1), padding=(1, 1))\n",
              "      (17): ReLU(inplace=True)\n",
              "    )\n",
              "  )\n",
              "  (vgg_2): relu_2_2(\n",
              "    (feature_extractor): Sequential(\n",
              "      (0): Conv2d(3, 64, kernel_size=(3, 3), stride=(1, 1), padding=(1, 1))\n",
              "      (1): ReLU(inplace=True)\n",
              "      (2): Conv2d(64, 64, kernel_size=(3, 3), stride=(1, 1), padding=(1, 1))\n",
              "      (3): ReLU(inplace=True)\n",
              "      (4): MaxPool2d(kernel_size=2, stride=2, padding=0, dilation=1, ceil_mode=False)\n",
              "      (5): Conv2d(64, 128, kernel_size=(3, 3), stride=(1, 1), padding=(1, 1))\n",
              "      (6): ReLU(inplace=True)\n",
              "      (7): Conv2d(128, 128, kernel_size=(3, 3), stride=(1, 1), padding=(1, 1))\n",
              "      (8): ReLU(inplace=True)\n",
              "    )\n",
              "  )\n",
              "  (vgg_1): relu_1_2(\n",
              "    (feature_extractor): Sequential(\n",
              "      (0): Conv2d(3, 64, kernel_size=(3, 3), stride=(1, 1), padding=(1, 1))\n",
              "      (1): ReLU(inplace=True)\n",
              "      (2): Conv2d(64, 64, kernel_size=(3, 3), stride=(1, 1), padding=(1, 1))\n",
              "      (3): ReLU(inplace=True)\n",
              "    )\n",
              "  )\n",
              "  (p0_1): ConvBlock(\n",
              "    (conv): Conv2d(256, 256, kernel_size=(5, 5), stride=(1, 1), padding=(2, 2), padding_mode=reflect)\n",
              "    (batchnorm): BatchNorm2d(256, eps=1e-05, momentum=0.1, affine=True, track_running_stats=True)\n",
              "    (leakyrelu): LeakyReLU(negative_slope=0.2)\n",
              "  )\n",
              "  (p0_2): ConvBlock(\n",
              "    (conv): Conv2d(256, 256, kernel_size=(5, 5), stride=(1, 1), padding=(2, 2), padding_mode=reflect)\n",
              "    (batchnorm): BatchNorm2d(256, eps=1e-05, momentum=0.1, affine=True, track_running_stats=True)\n",
              "    (leakyrelu): LeakyReLU(negative_slope=0.2)\n",
              "  )\n",
              "  (p0_3): ConvBlock(\n",
              "    (conv): Conv2d(256, 256, kernel_size=(5, 5), stride=(1, 1), padding=(2, 2), padding_mode=reflect)\n",
              "    (batchnorm): BatchNorm2d(256, eps=1e-05, momentum=0.1, affine=True, track_running_stats=True)\n",
              "    (leakyrelu): LeakyReLU(negative_slope=0.2)\n",
              "  )\n",
              "  (p0_4): ConvBlock(\n",
              "    (conv): Conv2d(256, 256, kernel_size=(5, 5), stride=(1, 1), padding=(2, 2), padding_mode=reflect)\n",
              "    (batchnorm): BatchNorm2d(256, eps=1e-05, momentum=0.1, affine=True, track_running_stats=True)\n",
              "    (leakyrelu): LeakyReLU(negative_slope=0.2)\n",
              "  )\n",
              "  (d4): DecodeBlock(\n",
              "    (upsample): Upsample(scale_factor=2.0, mode='bicubic')\n",
              "    (c1): ConvBlock(\n",
              "      (conv): Conv2d(256, 256, kernel_size=(5, 5), stride=(1, 1), padding=(2, 2), padding_mode=reflect)\n",
              "      (batchnorm): BatchNorm2d(256, eps=1e-05, momentum=0.1, affine=True, track_running_stats=True)\n",
              "      (leakyrelu): LeakyReLU(negative_slope=0.2)\n",
              "    )\n",
              "    (c2): ConvBlock(\n",
              "      (conv): Conv2d(256, 256, kernel_size=(5, 5), stride=(1, 1), padding=(2, 2), padding_mode=reflect)\n",
              "      (batchnorm): BatchNorm2d(256, eps=1e-05, momentum=0.1, affine=True, track_running_stats=True)\n",
              "      (leakyrelu): LeakyReLU(negative_slope=0.2)\n",
              "    )\n",
              "    (c3): ConvBlock(\n",
              "      (conv): Conv2d(256, 256, kernel_size=(5, 5), stride=(1, 1), padding=(2, 2), padding_mode=reflect)\n",
              "      (batchnorm): BatchNorm2d(256, eps=1e-05, momentum=0.1, affine=True, track_running_stats=True)\n",
              "      (leakyrelu): LeakyReLU(negative_slope=0.2)\n",
              "    )\n",
              "    (c4): ConvBlock(\n",
              "      (conv): Conv2d(256, 256, kernel_size=(5, 5), stride=(1, 1), padding=(2, 2), padding_mode=reflect)\n",
              "      (batchnorm): BatchNorm2d(256, eps=1e-05, momentum=0.1, affine=True, track_running_stats=True)\n",
              "      (leakyrelu): LeakyReLU(negative_slope=0.2)\n",
              "    )\n",
              "    (c5): ConvBlock(\n",
              "      (conv): Conv2d(256, 256, kernel_size=(5, 5), stride=(1, 1), padding=(2, 2), padding_mode=reflect)\n",
              "      (batchnorm): BatchNorm2d(256, eps=1e-05, momentum=0.1, affine=True, track_running_stats=True)\n",
              "      (leakyrelu): LeakyReLU(negative_slope=0.2)\n",
              "    )\n",
              "    (c6): ConvBlock(\n",
              "      (conv): Conv2d(256, 256, kernel_size=(5, 5), stride=(1, 1), padding=(2, 2), padding_mode=reflect)\n",
              "      (batchnorm): BatchNorm2d(256, eps=1e-05, momentum=0.1, affine=True, track_running_stats=True)\n",
              "      (leakyrelu): LeakyReLU(negative_slope=0.2)\n",
              "    )\n",
              "  )\n",
              "  (d3): DecodeBlock(\n",
              "    (upsample): Upsample(scale_factor=2.0, mode='bicubic')\n",
              "    (c1): ConvBlock(\n",
              "      (conv): Conv2d(256, 256, kernel_size=(5, 5), stride=(1, 1), padding=(2, 2), padding_mode=reflect)\n",
              "      (batchnorm): BatchNorm2d(256, eps=1e-05, momentum=0.1, affine=True, track_running_stats=True)\n",
              "      (leakyrelu): LeakyReLU(negative_slope=0.2)\n",
              "    )\n",
              "    (c2): ConvBlock(\n",
              "      (conv): Conv2d(256, 256, kernel_size=(5, 5), stride=(1, 1), padding=(2, 2), padding_mode=reflect)\n",
              "      (batchnorm): BatchNorm2d(256, eps=1e-05, momentum=0.1, affine=True, track_running_stats=True)\n",
              "      (leakyrelu): LeakyReLU(negative_slope=0.2)\n",
              "    )\n",
              "    (c3): ConvBlock(\n",
              "      (conv): Conv2d(256, 256, kernel_size=(5, 5), stride=(1, 1), padding=(2, 2), padding_mode=reflect)\n",
              "      (batchnorm): BatchNorm2d(256, eps=1e-05, momentum=0.1, affine=True, track_running_stats=True)\n",
              "      (leakyrelu): LeakyReLU(negative_slope=0.2)\n",
              "    )\n",
              "    (c4): ConvBlock(\n",
              "      (conv): Conv2d(256, 256, kernel_size=(5, 5), stride=(1, 1), padding=(2, 2), padding_mode=reflect)\n",
              "      (batchnorm): BatchNorm2d(256, eps=1e-05, momentum=0.1, affine=True, track_running_stats=True)\n",
              "      (leakyrelu): LeakyReLU(negative_slope=0.2)\n",
              "    )\n",
              "    (c5): ConvBlock(\n",
              "      (conv): Conv2d(256, 256, kernel_size=(5, 5), stride=(1, 1), padding=(2, 2), padding_mode=reflect)\n",
              "      (batchnorm): BatchNorm2d(256, eps=1e-05, momentum=0.1, affine=True, track_running_stats=True)\n",
              "      (leakyrelu): LeakyReLU(negative_slope=0.2)\n",
              "    )\n",
              "    (c6): ConvBlock(\n",
              "      (conv): Conv2d(256, 256, kernel_size=(5, 5), stride=(1, 1), padding=(2, 2), padding_mode=reflect)\n",
              "      (batchnorm): BatchNorm2d(256, eps=1e-05, momentum=0.1, affine=True, track_running_stats=True)\n",
              "      (leakyrelu): LeakyReLU(negative_slope=0.2)\n",
              "    )\n",
              "  )\n",
              "  (d2): DecodeBlock(\n",
              "    (upsample): Upsample(scale_factor=2.0, mode='bicubic')\n",
              "    (c1): ConvBlock(\n",
              "      (conv): Conv2d(256, 128, kernel_size=(5, 5), stride=(1, 1), padding=(2, 2), padding_mode=reflect)\n",
              "      (batchnorm): BatchNorm2d(128, eps=1e-05, momentum=0.1, affine=True, track_running_stats=True)\n",
              "      (leakyrelu): LeakyReLU(negative_slope=0.2)\n",
              "    )\n",
              "    (c2): ConvBlock(\n",
              "      (conv): Conv2d(128, 128, kernel_size=(5, 5), stride=(1, 1), padding=(2, 2), padding_mode=reflect)\n",
              "      (batchnorm): BatchNorm2d(128, eps=1e-05, momentum=0.1, affine=True, track_running_stats=True)\n",
              "      (leakyrelu): LeakyReLU(negative_slope=0.2)\n",
              "    )\n",
              "    (c3): ConvBlock(\n",
              "      (conv): Conv2d(128, 128, kernel_size=(5, 5), stride=(1, 1), padding=(2, 2), padding_mode=reflect)\n",
              "      (batchnorm): BatchNorm2d(128, eps=1e-05, momentum=0.1, affine=True, track_running_stats=True)\n",
              "      (leakyrelu): LeakyReLU(negative_slope=0.2)\n",
              "    )\n",
              "    (c4): ConvBlock(\n",
              "      (conv): Conv2d(128, 128, kernel_size=(5, 5), stride=(1, 1), padding=(2, 2), padding_mode=reflect)\n",
              "      (batchnorm): BatchNorm2d(128, eps=1e-05, momentum=0.1, affine=True, track_running_stats=True)\n",
              "      (leakyrelu): LeakyReLU(negative_slope=0.2)\n",
              "    )\n",
              "    (c5): ConvBlock(\n",
              "      (conv): Conv2d(128, 128, kernel_size=(5, 5), stride=(1, 1), padding=(2, 2), padding_mode=reflect)\n",
              "      (batchnorm): BatchNorm2d(128, eps=1e-05, momentum=0.1, affine=True, track_running_stats=True)\n",
              "      (leakyrelu): LeakyReLU(negative_slope=0.2)\n",
              "    )\n",
              "    (c6): ConvBlock(\n",
              "      (conv): Conv2d(128, 128, kernel_size=(5, 5), stride=(1, 1), padding=(2, 2), padding_mode=reflect)\n",
              "      (batchnorm): BatchNorm2d(128, eps=1e-05, momentum=0.1, affine=True, track_running_stats=True)\n",
              "      (leakyrelu): LeakyReLU(negative_slope=0.2)\n",
              "    )\n",
              "  )\n",
              "  (d1): DecodeBlock(\n",
              "    (upsample): Upsample(scale_factor=2.0, mode='bicubic')\n",
              "    (c1): ConvBlock(\n",
              "      (conv): Conv2d(128, 64, kernel_size=(5, 5), stride=(1, 1), padding=(2, 2), padding_mode=reflect)\n",
              "      (batchnorm): BatchNorm2d(64, eps=1e-05, momentum=0.1, affine=True, track_running_stats=True)\n",
              "      (leakyrelu): LeakyReLU(negative_slope=0.2)\n",
              "    )\n",
              "    (c2): ConvBlock(\n",
              "      (conv): Conv2d(64, 64, kernel_size=(5, 5), stride=(1, 1), padding=(2, 2), padding_mode=reflect)\n",
              "      (batchnorm): BatchNorm2d(64, eps=1e-05, momentum=0.1, affine=True, track_running_stats=True)\n",
              "      (leakyrelu): LeakyReLU(negative_slope=0.2)\n",
              "    )\n",
              "    (c3): ConvBlock(\n",
              "      (conv): Conv2d(64, 64, kernel_size=(5, 5), stride=(1, 1), padding=(2, 2), padding_mode=reflect)\n",
              "      (batchnorm): BatchNorm2d(64, eps=1e-05, momentum=0.1, affine=True, track_running_stats=True)\n",
              "      (leakyrelu): LeakyReLU(negative_slope=0.2)\n",
              "    )\n",
              "    (c4): ConvBlock(\n",
              "      (conv): Conv2d(64, 64, kernel_size=(5, 5), stride=(1, 1), padding=(2, 2), padding_mode=reflect)\n",
              "      (batchnorm): BatchNorm2d(64, eps=1e-05, momentum=0.1, affine=True, track_running_stats=True)\n",
              "      (leakyrelu): LeakyReLU(negative_slope=0.2)\n",
              "    )\n",
              "    (c5): ConvBlock(\n",
              "      (conv): Conv2d(64, 64, kernel_size=(5, 5), stride=(1, 1), padding=(2, 2), padding_mode=reflect)\n",
              "      (batchnorm): BatchNorm2d(64, eps=1e-05, momentum=0.1, affine=True, track_running_stats=True)\n",
              "      (leakyrelu): LeakyReLU(negative_slope=0.2)\n",
              "    )\n",
              "    (c6): ConvBlock(\n",
              "      (conv): Conv2d(64, 64, kernel_size=(5, 5), stride=(1, 1), padding=(2, 2), padding_mode=reflect)\n",
              "      (batchnorm): BatchNorm2d(64, eps=1e-05, momentum=0.1, affine=True, track_running_stats=True)\n",
              "      (leakyrelu): LeakyReLU(negative_slope=0.2)\n",
              "    )\n",
              "  )\n",
              "  (e1): ConvBlock(\n",
              "    (conv): Conv2d(64, 64, kernel_size=(3, 3), stride=(1, 1), padding=(1, 1), padding_mode=reflect)\n",
              "    (batchnorm): BatchNorm2d(64, eps=1e-05, momentum=0.1, affine=True, track_running_stats=True)\n",
              "    (leakyrelu): LeakyReLU(negative_slope=0.2)\n",
              "  )\n",
              "  (e2): ConvBlock(\n",
              "    (conv): Conv2d(64, 64, kernel_size=(3, 3), stride=(1, 1), padding=(1, 1), padding_mode=reflect)\n",
              "    (batchnorm): BatchNorm2d(64, eps=1e-05, momentum=0.1, affine=True, track_running_stats=True)\n",
              "    (leakyrelu): LeakyReLU(negative_slope=0.2)\n",
              "  )\n",
              "  (e3): ConvBlock(\n",
              "    (conv): Conv2d(64, 64, kernel_size=(3, 3), stride=(1, 1), padding=(1, 1), padding_mode=reflect)\n",
              "    (batchnorm): BatchNorm2d(64, eps=1e-05, momentum=0.1, affine=True, track_running_stats=True)\n",
              "    (leakyrelu): LeakyReLU(negative_slope=0.2)\n",
              "  )\n",
              "  (e4): ConvBlock(\n",
              "    (conv): Conv2d(64, 64, kernel_size=(3, 3), stride=(1, 1), padding=(1, 1), padding_mode=reflect)\n",
              "    (batchnorm): BatchNorm2d(64, eps=1e-05, momentum=0.1, affine=True, track_running_stats=True)\n",
              "    (leakyrelu): LeakyReLU(negative_slope=0.2)\n",
              "  )\n",
              "  (e5): ConvBlock(\n",
              "    (conv): Conv2d(64, 64, kernel_size=(3, 3), stride=(1, 1), padding=(1, 1), padding_mode=reflect)\n",
              "    (batchnorm): BatchNorm2d(64, eps=1e-05, momentum=0.1, affine=True, track_running_stats=True)\n",
              "    (leakyrelu): LeakyReLU(negative_slope=0.2)\n",
              "  )\n",
              "  (e6): ConvBlock(\n",
              "    (conv): Conv2d(64, 32, kernel_size=(3, 3), stride=(1, 1), padding=(1, 1), padding_mode=reflect)\n",
              "    (batchnorm): BatchNorm2d(32, eps=1e-05, momentum=0.1, affine=True, track_running_stats=True)\n",
              "    (leakyrelu): LeakyReLU(negative_slope=0.2)\n",
              "  )\n",
              "  (e7): ConvBlock(\n",
              "    (conv): Conv2d(32, 16, kernel_size=(3, 3), stride=(1, 1), padding=(1, 1), padding_mode=reflect)\n",
              "    (batchnorm): BatchNorm2d(16, eps=1e-05, momentum=0.1, affine=True, track_running_stats=True)\n",
              "    (leakyrelu): LeakyReLU(negative_slope=0.2)\n",
              "  )\n",
              "  (end): ConvBlock(\n",
              "    (conv): Conv2d(16, 3, kernel_size=(3, 3), stride=(1, 1), padding=(1, 1), padding_mode=reflect)\n",
              "    (batchnorm): BatchNorm2d(3, eps=1e-05, momentum=0.1, affine=True, track_running_stats=True)\n",
              "    (leakyrelu): LeakyReLU(negative_slope=0.2)\n",
              "  )\n",
              ")"
            ]
          },
          "metadata": {},
          "execution_count": 12
        }
      ],
      "source": [
        "# Load Model\n",
        "model_name = \"v4\"\n",
        "model = net.SR_v4().to(device) #v4 v5 / v4_x8\n",
        "\n",
        "model.load_state_dict(torch.load(f\"../models/vfbsr/trained/{model_name}.pth\")) # model path\n",
        "model.eval()\n",
        "model.to(device)"
      ]
    },
    {
      "cell_type": "code",
      "source": [
        "torch.save(model, \"../models/SR-ATS-4.pth\")"
      ],
      "metadata": {
        "id": "Gne3mg8E5esZ"
      },
      "execution_count": 13,
      "outputs": []
    },
    {
      "cell_type": "markdown",
      "metadata": {
        "id": "EekW55Qf8dYW"
      },
      "source": [
        "> save image"
      ]
    },
    {
      "cell_type": "code",
      "execution_count": 15,
      "metadata": {
        "id": "xBgywPeXPNvb",
        "colab": {
          "base_uri": "https://localhost:8080/"
        },
        "outputId": "f8ff8714-739c-4df3-cbc2-6adf99986254"
      },
      "outputs": [
        {
          "output_type": "stream",
          "name": "stdout",
          "text": [
            "[set5]\n",
            "psnr: 29.190833689099172, ssim: 0.8748121201656678\n",
            "\n",
            "[set14]\n",
            "psnr: 26.017860691141692, ssim: 0.7643446248900653\n",
            "\n",
            "[bsd]\n",
            "psnr: 25.92855037846474, ssim: 0.7207758558556543\n",
            "\n",
            "[urban]\n",
            "psnr: 23.6329297536201, ssim: 0.7551318195554221\n"
          ]
        }
      ],
      "source": [
        "importlib.reload(net_tester)\n",
        "\n",
        "print(\"[set5]\")\n",
        "net_tester.test_set(set5_path , device, model, save_path=f\"../outputs/{model_name}/s5\")\n",
        "\n",
        "print(\"\\n[set14]\")\n",
        "net_tester.test_set(set14_path, device, model, save_path=f\"../outputs/{model_name}/s14\")\n",
        "\n",
        "print(\"\\n[bsd]\")\n",
        "net_tester.test_set(bsd_path  , device, model, save_path=f\"../outputs/{model_name}/bsd\")\n",
        "\n",
        "print(\"\\n[urban]\")\n",
        "net_tester.test_set(urban_path, device, model, save_path=f\"../outputs/{model_name}/urb\")"
      ]
    }
  ],
  "metadata": {
    "accelerator": "GPU",
    "colab": {
      "collapsed_sections": [
        "tzYd5tvnwp3e",
        "GIx0_dgOw5NB",
        "8OHhySgR7bxa"
      ],
      "gpuType": "T4",
      "provenance": []
    },
    "kernelspec": {
      "display_name": "Python 3",
      "name": "python3"
    },
    "language_info": {
      "name": "python"
    }
  },
  "nbformat": 4,
  "nbformat_minor": 0
}